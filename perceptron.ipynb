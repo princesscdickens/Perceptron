{
 "cells": [
  {
   "cell_type": "markdown",
   "metadata": {},
   "source": [
    "# Perceptron Training\n",
    "\n",
    "\n",
    "The task is to build a feature-based multi-class perceptron classifier (see separate handout on the perceptron algorithm) and evaluate its accuracy.\n",
    "\n",
    "You are given a *training set* and a *test set* (restaurant_train.txt and restaurant_test.txt) that on each line lists \n",
    "1. the class, and \n",
    "2. a list of feature-value pairs. \n",
    "\n",
    "Each line in both files looks as follows:\n",
    "    class f1:v1f2:v2... fn:vn\n",
    " \n",
    "\n",
    "- Each line is an instance (one single example).\n",
    "- The class is an integer {0,1,2}, i.e. this is a three-class problem with the classes numbered 0-2.\n",
    "- The feature list is sparse in the sense that features with value 0 are not mentioned separately. All feature values are either 0 or 1.\n",
    "\n",
    "Here is an example from restaurant_train.txt:\n",
    "    0 2:1 10:1 26:1 33:1 34:1 57:1 97:1 100:1\n",
    " \n",
    "This example then belongs to class 0, its features {2,10,26,33,34,57,97,100} are all 1 while the remaining features have value 0.\n",
    "\n",
    "The data set is a set of restaurant reviews and the labels indicate whether it is a review about Italian, Chinese or Mexican food.  We don't need to worry about what the feature numbers correspond to: in this homework the task is to focus on the perceptron algorithm and feature representations. The idea is to just implement the algorithm without concerning ourselves about how the reviews were turned into features. Note that you need to separately figure out how long the feature vector should be.\n",
    "\n",
    "In short, the task is to:\n",
    "- read in the data\n",
    "- convert each example to a vector (a list) representation in Python \n",
    "- implement the classifier using vector operations, and \n",
    "- evaluate the performance."
   ]
  },
  {
   "cell_type": "code",
   "execution_count": 1,
   "metadata": {},
   "outputs": [],
   "source": [
    "# Create a function that takes a filename and returns a list of tuples. \n",
    "#[(class, [features present/absent]), (class, [features present/absent]), etc]\n",
    "\n",
    "#listTuples = []\n",
    "\n",
    "# Figure out the number of features by reading in ALL the data (training, dec, test) \n",
    "# and looking for the largest number in the (feature:value) pairs. Add one for the prior.\n",
    "\n",
    "def filetolist(filename, inputList):\n",
    "    \n",
    "    for line in open(filename):\n",
    "        # features = [0] * (max_feature_num + 1)\n",
    "        features = [0] * 9492 #creates list of size 9492 with all 0s\n",
    "        features[-1] = 1 # this is the prior, value = 1\n",
    "        l = line.split() #list of items ['class', 'feature:value', 'feature:value']\n",
    "        c = l[0] # just the class: 0, 1, or 2\n",
    "        for element in l[1:]: #for all the feature:value pairs\n",
    "            x = element.split(':') \n",
    "            feature_present = int(x[0]) #the feature num\n",
    "            # max_feature_num = 0\n",
    "            # if int(feature_present) > max_feature_num:\n",
    "            # # max_feature_num = int(feature_present)\n",
    "            features[feature_present] = 1 #Index features[] using the feature num and change that value to a 1\n",
    "        inputList.append((c, features)) #creat tuple (class num, features list) and add to larger list\n",
    "    #print(inputList[0], end = ' ')\n",
    "        \n",
    "#filetolist('restaurant_train.txt', listTuples)\n",
    "#filetolist('restaurant_test.txt')"
   ]
  },
  {
   "cell_type": "code",
   "execution_count": 2,
   "metadata": {},
   "outputs": [
    {
     "data": {
      "text/plain": [
       "32"
      ]
     },
     "execution_count": 2,
     "metadata": {},
     "output_type": "execute_result"
    }
   ],
   "source": [
    "# Create functions dotproduct(), vec_sub(), and vec_add(), all of which take two lists (vectors) \n",
    "# as arguments, and calculate 1) the dot product of the two vectors, 2) subtract one vector from another, \n",
    "# and 3) add one vector to another. \n",
    "\n",
    "def dotproduct(vector1, vector2):\n",
    "    dproduct = 0\n",
    "    for item1, item2 in zip(vector1, vector2):\n",
    "        dproduct += item1 * item2\n",
    "    return dproduct\n",
    "\n",
    "#test\n",
    "v1 = [1, 2, 3]\n",
    "v2 = [4, 5, 6]\n",
    "# 4 + 10 + 18 = 32\n",
    "\n",
    "dotproduct(v1, v2)"
   ]
  },
  {
   "cell_type": "code",
   "execution_count": 3,
   "metadata": {},
   "outputs": [
    {
     "data": {
      "text/plain": [
       "[5, 7, 9]"
      ]
     },
     "execution_count": 3,
     "metadata": {},
     "output_type": "execute_result"
    }
   ],
   "source": [
    "def vec_add(vector1, vector2):\n",
    "    sumVectors = []\n",
    "    for item1, item2 in zip(vector1, vector2):\n",
    "        sumVectors.append(item1 + item2)\n",
    "    return sumVectors\n",
    "\n",
    "#test\n",
    "v1 = [1, 2, 3]\n",
    "v2 = [4, 5, 6]\n",
    "# [5,7,9]\n",
    "\n",
    "vec_add(v1, v2)"
   ]
  },
  {
   "cell_type": "code",
   "execution_count": 4,
   "metadata": {},
   "outputs": [
    {
     "data": {
      "text/plain": [
       "[-3, -3, -3]"
      ]
     },
     "execution_count": 4,
     "metadata": {},
     "output_type": "execute_result"
    }
   ],
   "source": [
    "def vec_sub(vector1, vector2):\n",
    "    difVectors = []\n",
    "    for item1, item2 in zip(vector1, vector2):\n",
    "        difVectors.append(item1 - item2)\n",
    "    return difVectors\n",
    "\n",
    "#test\n",
    "v1 = [1, 2, 3]\n",
    "v2 = [4, 5, 6]\n",
    "# [-3,-3,-3]\n",
    "\n",
    "vec_sub(v1, v2)"
   ]
  },
  {
   "cell_type": "markdown",
   "metadata": {},
   "source": [
    "Step 1: Perceptron Training\n",
    "For 3 classes, I need 3 weights vectors: {w1, w2, w3}, all initialized to 0.\n",
    "There are 9492 features plus the prior for a list of length 9493.\n",
    "\n",
    "1. Read in the training data that has 1000 lines using filetolist()\n",
    "2. Classify each line (restaurant) as class 0, 1, or 2 by taking the Dot Product of the 3 weights vectors individually and the current restaurant's features vector.\n",
    "3. If my model classifies the restaurant correctly, move to the next line. \n",
    "4. If my model classifies the restaurant incorrectly, I should use the vec_add() function to increase the weights for the correct class and vec_sub() to decrease the weights for wrongly-guessed class according to the current restaurant's features. I should leave the 3rd class alone.\n",
    "5. Keep track of how many misclassifications my model makes. If that number reaches 0 (all restaurants were guessed correctly), I can stop my model."
   ]
  },
  {
   "cell_type": "code",
   "execution_count": 5,
   "metadata": {},
   "outputs": [
    {
     "name": "stdout",
     "output_type": "stream",
     "text": [
      "Errors:  330\n",
      "Errors:  88\n",
      "Errors:  58\n",
      "Errors:  34\n",
      "Errors:  20\n",
      "Errors:  11\n",
      "Errors:  9\n",
      "Errors:  2\n",
      "Errors:  0\n"
     ]
    }
   ],
   "source": [
    "# weights vectors\n",
    "w0 = [0] * 9492\n",
    "w1 = [0] * 9492\n",
    "w2 = [0] * 9492\n",
    "\n",
    "trainingData = [] # This will be size 1000 for 1000 restaurants\n",
    "filetolist('restaurant_train.txt', trainingData)\n",
    "#print(trainingData[0])\n",
    "#len(trainingData)\n",
    "\n",
    "def trainWeights(trainingData, w0, w1, w2):\n",
    "\n",
    "    noErrors = False\n",
    "    while(noErrors == False):      \n",
    "        numErrors = 0\n",
    "\n",
    "        for item in trainingData: #for every ('class', [features vector]) tuple...\n",
    "\n",
    "            if item[0] == '0':\n",
    "                actualClassID = '0'\n",
    "            elif item[0] == '1':\n",
    "                actualClassID = '1'\n",
    "            else:\n",
    "                actualClassID = '2'\n",
    "\n",
    "            dp_class0 = dotproduct(w0, item[1])\n",
    "            dp_class1 = dotproduct(w1, item[1])\n",
    "            dp_class2 = dotproduct(w2, item[1])\n",
    "            winner = max(dp_class0, dp_class1, dp_class2)\n",
    "            \n",
    "            if winner == dp_class0:\n",
    "                winnerID = '0'\n",
    "            elif winner == dp_class1:\n",
    "                winnerID = '1'\n",
    "            else:\n",
    "                winnerID = '2'\n",
    "\n",
    "            if winnerID == '0' and actualClassID != '0': #incorrect guess\n",
    "                numErrors += 1\n",
    "                w0 = vec_sub(w0, item[1])             \n",
    "                if(actualClassID == '1'):\n",
    "                    w1 = vec_add(w1, item[1])\n",
    "                elif(actualClassID == '2'):\n",
    "                    w2 = vec_add(w2, item[1])\n",
    "\n",
    "            elif winnerID == '1' and actualClassID != '1': #incorrect guess\n",
    "                numErrors += 1\n",
    "                w1 = vec_sub(w1, item[1])             \n",
    "                if(actualClassID == '0'):\n",
    "                    w0 = vec_add(w0, item[1])\n",
    "                elif(actualClassID == '2'):\n",
    "                    w2 = vec_add(w2, item[1])\n",
    "\n",
    "            elif winnerID == '2' and actualClassID != '2': #incorrect guess\n",
    "                numErrors += 1\n",
    "                w2 = vec_sub(w2, item[1])             \n",
    "                if(actualClassID == '1'):\n",
    "                    w1 = vec_add(w1, item[1])\n",
    "                elif(actualClassID == '0'):\n",
    "                    w0 = vec_add(w0, item[1])\n",
    "\n",
    "            #print('Winning class is:', winnerID)\n",
    "            #print('Actual class is: ', actualClassID)\n",
    "            #print('w0:', w0[0:10]) \n",
    "            #print('w1:', w1[0:10])\n",
    "            #print('w2:', w2[0:10])\n",
    "\n",
    "        print('Errors: ', numErrors)\n",
    "        if(numErrors == 0):\n",
    "            noErrors = True\n",
    "    return w0, w1, w2\n",
    "\n",
    "w0, w1, w2 = trainWeights(trainingData, w0, w1, w2)"
   ]
  },
  {
   "cell_type": "markdown",
   "metadata": {},
   "source": [
    "I now have a function that trains my weight vectors for each of my three restaurant classes.\n",
    "Now, if I wanted to, I could figure out HOW LONG I should train my weight vectors for better accuracy. For this, I would use my development data set.\n",
    "\n",
    "1. Read in restaurant_dev.txt.\n",
    "2. Run trainWeights() on Dev set.\n",
    "3. Count how many classifications were correct out of 250.\n",
    "4. If the subsequent classifications are LESS ACCURATE than the previous, then stop training."
   ]
  },
  {
   "cell_type": "code",
   "execution_count": 6,
   "metadata": {},
   "outputs": [],
   "source": [
    "# dev set has 250 restaurants on which to test different weights\n",
    "devData = []\n",
    "filetolist('restaurant_dev.txt', devData)\n"
   ]
  },
  {
   "cell_type": "markdown",
   "metadata": {},
   "source": [
    "After trying out different weights and deciding what the best time to stop training is (optional), it's time to evaluate my test set.\n",
    "\n",
    "1. Read in restaurant_test.txt\n",
    "2. Run classifier and count how many errors are made out of 500"
   ]
  },
  {
   "cell_type": "code",
   "execution_count": 7,
   "metadata": {},
   "outputs": [
    {
     "name": "stdout",
     "output_type": "stream",
     "text": [
      "Errors: 56\n",
      "Accuracy: 88.8\n"
     ]
    }
   ],
   "source": [
    "#print('Weights after training:')\n",
    "#print('w0:', w0[0:15])\n",
    "#print('w1:', w1[0:15])\n",
    "#print('w2:', w2[0:15])\n",
    "\n",
    "# there are 500 resturants in the test set\n",
    "testData = []\n",
    "filetolist('restaurant_test.txt', testData)\n",
    "\n",
    "#print('test data:', testData[0])\n",
    "\n",
    "def testModel(testData, w0, w1, w2):\n",
    "    numErrors = 0\n",
    "    numCorrect = 0\n",
    "    \n",
    "    for item in testData:\n",
    "        if item[0] == '0':\n",
    "            actualClassID = '0'\n",
    "        elif item[0] == '1':\n",
    "            actualClassID = '1'\n",
    "        else:\n",
    "            actualClassID = '2'\n",
    "    \n",
    "        dp_class0 = dotproduct(w0, item[1])\n",
    "        dp_class1 = dotproduct(w1, item[1])\n",
    "        dp_class2 = dotproduct(w2, item[1])\n",
    "        winner = max(dp_class0, dp_class1, dp_class2)\n",
    "        \n",
    "        if winner == dp_class0:\n",
    "            winnerID = '0'\n",
    "        elif winner == dp_class1:\n",
    "            winnerID = '1'\n",
    "        else:\n",
    "            winnerID = '2'\n",
    "\n",
    "        if winnerID == '0' and actualClassID != '0': #incorrect guess\n",
    "            numErrors += 1\n",
    "        elif winnerID == '1' and actualClassID != '1': #incorrect guess\n",
    "            numErrors += 1\n",
    "        elif winnerID == '2' and actualClassID != '2': #incorrect guess\n",
    "            numErrors += 1\n",
    "        else:\n",
    "            numCorrect += 1\n",
    "    \n",
    "    #print('Correct:', numCorrect)\n",
    "    print('Errors:', numErrors)\n",
    "    accuracy = (500 - numErrors) * 100 / 500\n",
    "    return accuracy\n",
    "\n",
    "accuracy = testModel(testData, w0, w1, w2)\n",
    "print('Accuracy:', accuracy)"
   ]
  },
  {
   "cell_type": "code",
   "execution_count": null,
   "metadata": {},
   "outputs": [],
   "source": []
  }
 ],
 "metadata": {
  "kernelspec": {
   "display_name": "Python 3",
   "language": "python",
   "name": "python3"
  },
  "language_info": {
   "codemirror_mode": {
    "name": "ipython",
    "version": 3
   },
   "file_extension": ".py",
   "mimetype": "text/x-python",
   "name": "python",
   "nbconvert_exporter": "python",
   "pygments_lexer": "ipython3",
   "version": "3.7.3"
  }
 },
 "nbformat": 4,
 "nbformat_minor": 4
}
